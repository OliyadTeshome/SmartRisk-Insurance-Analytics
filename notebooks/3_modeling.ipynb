{
 "cells": [
  {
   "cell_type": "markdown",
   "metadata": {},
   "source": [
    "## **1. Introduction & Objectives**\n",
    "- Build and evaluate predictive models that form the core of a dynamic, risk-based pricing system.\n",
    "\n",
    "**Modeling Goals:**\n",
    "1. Claim Severity Prediction (Regression)\n",
    "2. Premium Optimization and Risk Probability (Classification)"
   ]
  },
  {
   "cell_type": "markdown",
   "metadata": {},
   "source": [
    "---"
   ]
  },
  {
   "cell_type": "markdown",
   "metadata": {},
   "source": [
    "## **2. Data Preparation**"
   ]
  },
  {
   "cell_type": "code",
   "execution_count": 1,
   "metadata": {},
   "outputs": [],
   "source": [
    "import pandas as pd\n",
    "import numpy as np\n",
    "from sklearn.model_selection import train_test_split\n",
    "from sklearn.preprocessing import OneHotEncoder, StandardScaler\n",
    "from sklearn.compose import ColumnTransformer\n",
    "from sklearn.pipeline import Pipeline\n",
    "from sklearn.impute import SimpleImputer\n",
    "from sklearn.metrics import mean_squared_error, r2_score, classification_report, accuracy_score\n",
    "from sklearn.linear_model import LinearRegression, LogisticRegression\n",
    "from sklearn.ensemble import RandomForestRegressor, RandomForestClassifier\n",
    "import xgboost as xgb\n",
    "import shap\n",
    "import matplotlib.pyplot as plt\n",
    "import seaborn as sns\n",
    "import warnings\n",
    "warnings.filterwarnings(\"ignore\")"
   ]
  },
  {
   "cell_type": "markdown",
   "metadata": {},
   "source": [
    "### Load the cleaned data"
   ]
  },
  {
   "cell_type": "code",
   "execution_count": 2,
   "metadata": {},
   "outputs": [],
   "source": [
    "# Load the cleaned data directly, set low_memory=False to avoid DtypeWarning\n",
    "df = pd.read_csv(\"../data/processed/cleaned_insurance_data.csv\", low_memory=False)\n",
    "\n",
    "# Convert VehicleIntroDate to numeric VehicleAge\n",
    "df['VehicleIntroDate'] = pd.to_datetime(df['VehicleIntroDate'], format='%m/%Y', errors='coerce')\n",
    "df['VehicleAge'] = 2025 - df['VehicleIntroDate'].dt.year\n",
    "\n",
    "# Filter for severity prediction (claims > 0)\n",
    "df_severity = df[df['TotalClaims'] > 0].copy()\n",
    "\n",
    "# Create binary target for claim probability\n",
    "df['HasClaim'] = df['TotalClaims'] > 0\n",
    "\n",
    "# Drop irrelevant or leakage columns\n",
    "features = ['VehicleAge', 'SumInsured', 'TotalPremium', 'Province', 'VehicleType', 'Gender']\n",
    "\n",
    "X_reg = df_severity[features]\n",
    "y_reg = df_severity['TotalClaims']\n",
    "\n",
    "X_clf = df[features]\n",
    "y_clf = df['HasClaim']"
   ]
  },
  {
   "cell_type": "markdown",
   "metadata": {},
   "source": [
    "### Preprocessing pipeline"
   ]
  },
  {
   "cell_type": "code",
   "execution_count": 3,
   "metadata": {},
   "outputs": [],
   "source": [
    "# Preprocessing pipeline\n",
    "numeric_features = ['VehicleAge', 'SumInsured', 'TotalPremium']\n",
    "categorical_features = ['Province', 'VehicleType', 'Gender']\n",
    "\n",
    "numeric_transformer = Pipeline(steps=[\n",
    "    ('imputer', SimpleImputer(strategy='mean')),\n",
    "    ('scaler', StandardScaler())\n",
    "])\n",
    "\n",
    "categorical_transformer = Pipeline(steps=[\n",
    "    ('imputer', SimpleImputer(strategy='most_frequent')),\n",
    "    ('encoder', OneHotEncoder(handle_unknown='ignore'))\n",
    "])\n",
    "\n",
    "preprocessor = ColumnTransformer(transformers=[\n",
    "    ('num', numeric_transformer, numeric_features),\n",
    "    ('cat', categorical_transformer, categorical_features)\n",
    "])"
   ]
  },
  {
   "cell_type": "markdown",
   "metadata": {},
   "source": [
    "### Train-test split"
   ]
  },
  {
   "cell_type": "code",
   "execution_count": 4,
   "metadata": {},
   "outputs": [],
   "source": [
    "# Train-test split\n",
    "X_reg_train, X_reg_test, y_reg_train, y_reg_test = train_test_split(X_reg, y_reg, test_size=0.2, random_state=42)\n",
    "X_clf_train, X_clf_test, y_clf_train, y_clf_test = train_test_split(X_clf, y_clf, test_size=0.2, random_state=42)"
   ]
  },
  {
   "cell_type": "markdown",
   "metadata": {},
   "source": [
    "---"
   ]
  },
  {
   "cell_type": "markdown",
   "metadata": {},
   "source": [
    "## **3. Model Building & Evaluation**"
   ]
  },
  {
   "cell_type": "markdown",
   "metadata": {},
   "source": [
    "### Regression Models: Predicting TotalClaims"
   ]
  },
  {
   "cell_type": "code",
   "execution_count": 5,
   "metadata": {},
   "outputs": [],
   "source": [
    "# Regression Models: Predicting TotalClaims\n",
    "models_reg = {\n",
    "    'LinearRegression': LinearRegression(),\n",
    "    'RandomForest': RandomForestRegressor(random_state=42),\n",
    "    'XGBoost': xgb.XGBRegressor(random_state=42)\n",
    "}\n",
    "\n",
    "results_reg = {}\n",
    "\n",
    "for name, model in models_reg.items():\n",
    "    # Remove non-numeric columns from numeric_features to avoid mean imputation error\n",
    "    # (e.g., columns like 'PolicyStartDate' or similar date/string columns)\n",
    "    # Let's create a new preprocessor for regression with only valid numeric columns\n",
    "\n",
    "    # Identify numeric columns that are truly numeric (float or int)\n",
    "    valid_numeric_features = X_reg_train.select_dtypes(include=['number']).columns.tolist()\n",
    "\n",
    "    # Create a new numeric transformer and preprocessor for regression\n",
    "    numeric_transformer_reg = Pipeline(steps=[\n",
    "        ('imputer', SimpleImputer(strategy='mean')),\n",
    "        ('scaler', StandardScaler())\n",
    "    ])\n",
    "\n",
    "    preprocessor_reg = ColumnTransformer(transformers=[\n",
    "        ('num', numeric_transformer_reg, valid_numeric_features),\n",
    "        ('cat', categorical_transformer, categorical_features)\n",
    "    ])\n",
    "\n",
    "    pipe = Pipeline(steps=[\n",
    "        ('preprocessor', preprocessor_reg),\n",
    "        ('model', model)\n",
    "    ])\n",
    "    pipe.fit(X_reg_train, y_reg_train)\n",
    "    preds = pipe.predict(X_reg_test)\n",
    "    rmse = np.sqrt(mean_squared_error(y_reg_test, preds))\n",
    "    r2 = r2_score(y_reg_test, preds)\n",
    "    results_reg[name] = {'RMSE': rmse, 'R2': r2}"
   ]
  },
  {
   "cell_type": "markdown",
   "metadata": {},
   "source": [
    "### Classification Models: Predicting HasClaim"
   ]
  },
  {
   "cell_type": "code",
   "execution_count": 7,
   "metadata": {},
   "outputs": [],
   "source": [
    "## Classification Models: Predicting HasClaim\n",
    "models_clf = {\n",
    "    'LogisticRegression': LogisticRegression(max_iter=1000),\n",
    "    'RandomForest': RandomForestClassifier(random_state=42),\n",
    "    'XGBoost': xgb.XGBClassifier(use_label_encoder=False, eval_metric='logloss', random_state=42)\n",
    "}\n",
    "\n",
    "results_clf = {}\n",
    "\n",
    "for name, model in models_clf.items():\n",
    "    pipe = Pipeline(steps=[\n",
    "        ('preprocessor', preprocessor),\n",
    "        ('model', model)\n",
    "    ])\n",
    "    pipe.fit(X_clf_train, y_clf_train)\n",
    "    preds = pipe.predict(X_clf_test)\n",
    "    acc = accuracy_score(y_clf_test, preds)\n",
    "    report = classification_report(y_clf_test, preds, output_dict=True)\n",
    "    results_clf[name] = {'Accuracy': acc, 'Report': report}"
   ]
  },
  {
   "cell_type": "markdown",
   "metadata": {},
   "source": [
    "---"
   ]
  },
  {
   "cell_type": "markdown",
   "metadata": {},
   "source": [
    "## **4. Model Comparison Output**"
   ]
  },
  {
   "cell_type": "code",
   "execution_count": 9,
   "metadata": {},
   "outputs": [
    {
     "name": "stdout",
     "output_type": "stream",
     "text": [
      "--- Regression Models (Claim Severity) ---\n"
     ]
    },
    {
     "data": {
      "text/html": [
       "<div>\n",
       "<style scoped>\n",
       "    .dataframe tbody tr th:only-of-type {\n",
       "        vertical-align: middle;\n",
       "    }\n",
       "\n",
       "    .dataframe tbody tr th {\n",
       "        vertical-align: top;\n",
       "    }\n",
       "\n",
       "    .dataframe thead th {\n",
       "        text-align: right;\n",
       "    }\n",
       "</style>\n",
       "<table border=\"1\" class=\"dataframe\">\n",
       "  <thead>\n",
       "    <tr style=\"text-align: right;\">\n",
       "      <th></th>\n",
       "      <th>RMSE</th>\n",
       "      <th>R2</th>\n",
       "    </tr>\n",
       "  </thead>\n",
       "  <tbody>\n",
       "    <tr>\n",
       "      <th>LinearRegression</th>\n",
       "      <td>36838.455603</td>\n",
       "      <td>0.156180</td>\n",
       "    </tr>\n",
       "    <tr>\n",
       "      <th>RandomForest</th>\n",
       "      <td>36444.611987</td>\n",
       "      <td>0.174126</td>\n",
       "    </tr>\n",
       "    <tr>\n",
       "      <th>XGBoost</th>\n",
       "      <td>38093.773239</td>\n",
       "      <td>0.097692</td>\n",
       "    </tr>\n",
       "  </tbody>\n",
       "</table>\n",
       "</div>"
      ],
      "text/plain": [
       "                          RMSE        R2\n",
       "LinearRegression  36838.455603  0.156180\n",
       "RandomForest      36444.611987  0.174126\n",
       "XGBoost           38093.773239  0.097692"
      ]
     },
     "execution_count": 9,
     "metadata": {},
     "output_type": "execute_result"
    }
   ],
   "source": [
    "# Regression Models (Claim Severity)\n",
    "print(\"--- Regression Models (Claim Severity) ---\")\n",
    "pd.DataFrame(results_reg).T\n"
   ]
  },
  {
   "cell_type": "code",
   "execution_count": 10,
   "metadata": {},
   "outputs": [
    {
     "name": "stdout",
     "output_type": "stream",
     "text": [
      "--- Classification Models (Claim Probability) ---\n"
     ]
    },
    {
     "data": {
      "text/html": [
       "<div>\n",
       "<style scoped>\n",
       "    .dataframe tbody tr th:only-of-type {\n",
       "        vertical-align: middle;\n",
       "    }\n",
       "\n",
       "    .dataframe tbody tr th {\n",
       "        vertical-align: top;\n",
       "    }\n",
       "\n",
       "    .dataframe thead th {\n",
       "        text-align: right;\n",
       "    }\n",
       "</style>\n",
       "<table border=\"1\" class=\"dataframe\">\n",
       "  <thead>\n",
       "    <tr style=\"text-align: right;\">\n",
       "      <th></th>\n",
       "      <th>Accuracy</th>\n",
       "    </tr>\n",
       "  </thead>\n",
       "  <tbody>\n",
       "    <tr>\n",
       "      <th>LogisticRegression</th>\n",
       "      <td>0.99723</td>\n",
       "    </tr>\n",
       "    <tr>\n",
       "      <th>RandomForest</th>\n",
       "      <td>0.99719</td>\n",
       "    </tr>\n",
       "    <tr>\n",
       "      <th>XGBoost</th>\n",
       "      <td>0.99725</td>\n",
       "    </tr>\n",
       "  </tbody>\n",
       "</table>\n",
       "</div>"
      ],
      "text/plain": [
       "                    Accuracy\n",
       "LogisticRegression   0.99723\n",
       "RandomForest         0.99719\n",
       "XGBoost              0.99725"
      ]
     },
     "execution_count": 10,
     "metadata": {},
     "output_type": "execute_result"
    }
   ],
   "source": [
    "# Classification Models (Claim Probability)\n",
    "print(\"--- Classification Models (Claim Probability) ---\")\n",
    "pd.DataFrame({k: {'Accuracy': v['Accuracy']} for k, v in results_clf.items()}).T"
   ]
  },
  {
   "cell_type": "markdown",
   "metadata": {},
   "source": [
    "**Insight:**  \n",
    "- The model comparison output shows that for regression (claim severity), the Random Forest model slightly outperforms Linear Regression and XGBoost in terms of both RMSE and R², indicating it captures more variance and predicts claim amounts more accurately. \n",
    "- For classification (claim probability), all models achieve very high accuracy, with XGBoost performing marginally better. \n",
    "- This suggests that the features used are highly predictive of whether a claim will occur, and ensemble methods provide a small but consistent improvement over linear models.\n"
   ]
  },
  {
   "cell_type": "markdown",
   "metadata": {},
   "source": [
    "---"
   ]
  },
  {
   "cell_type": "markdown",
   "metadata": {},
   "source": [
    "## **5. SHAP for Model Interpretability**"
   ]
  },
  {
   "cell_type": "code",
   "execution_count": 11,
   "metadata": {},
   "outputs": [
    {
     "data": {
      "image/png": "[encoded data removed]",
      "text/plain": [
       "<Figure size 800x550 with 2 Axes>"
      ]
     },
     "metadata": {},
     "output_type": "display_data"
    }
   ],
   "source": [
    "# Fit best model for interpretability\n",
    "best_model = Pipeline(steps=[\n",
    "    ('preprocessor', preprocessor),\n",
    "    ('model', xgb.XGBRegressor(random_state=42))\n",
    "])\n",
    "best_model.fit(X_reg_train, y_reg_train)\n",
    "\n",
    "# SHAP Explainer\n",
    "# Ensure all columns are numeric for SHAP (avoid datetime columns)\n",
    "X_reg_train_numeric = X_reg_train.select_dtypes(exclude=['datetime', 'datetimetz'])\n",
    "X_transformed = preprocessor.fit_transform(X_reg_train_numeric)\n",
    "\n",
    "explainer = shap.Explainer(best_model.named_steps['model'])\n",
    "shap_values = explainer(X_transformed)\n",
    "\n",
    "# Plot summary\n",
    "shap.summary_plot(\n",
    "    shap_values, \n",
    "    X_transformed, \n",
    "    feature_names=preprocessor.get_feature_names_out(input_features=X_reg_train_numeric.columns), \n",
    "    max_display=10\n",
    ")"
   ]
  },
  {
   "cell_type": "markdown",
   "metadata": {},
   "source": [
    "**Insight:**  \n",
    "- The SHAP analysis provides clear interpretability for the XGBoost regression model's predictions of claim severity. \n",
    "- The most impactful features identified by SHAP include `VehicleAge`, `SumInsured`, `Province`, and `VehicleType`. \n",
    "- `VehicleAge` and `SumInsured` have strong positive contributions to predicted claim amounts, indicating that older vehicles and higher insured values are associated with larger claims. \n",
    "- Categorical features like `Province` and `VehicleType` also play significant roles, suggesting regional and vehicle-specific risk patterns. \n",
    "- These insights validate the importance of these variables in premium setting and support the use of interpretable machine learning for transparent, data-driven insurance pricing.\n"
   ]
  },
  {
   "cell_type": "markdown",
   "metadata": {},
   "source": [
    "----"
   ]
  },
  {
   "cell_type": "markdown",
   "metadata": {},
   "source": [
    "## **Business Interpretation**"
   ]
  },
  {
   "cell_type": "markdown",
   "metadata": {},
   "source": [
    "SHAP analysis reveals the most influential features in predicting claim severity:\n",
    "- VehicleAge: Older vehicles are associated with higher claim amounts.\n",
    "- SumInsured: Strong positive correlation with TotalClaims.\n",
    "- Province and VehicleType interact significantly with claim patterns."
   ]
  },
  {
   "cell_type": "markdown",
   "metadata": {},
   "source": [
    "**Business Implication:**\n",
    " - The modeling results indicate that both `claim probability` and `claim severity` can be predicted with high accuracy and reasonable explanatory power. \n",
    " - Key features such as `VehicleAge`, `SumInsured`, `Province`, and `VehicleType` have a significant impact on claim outcomes. \n",
    " - This provides a strong quantitative foundation for differentiated premium pricing based on these risk factors. \n",
    " - The high accuracy of the classification models and the interpretability of the regression model support the use of data-driven, transparent pricing strategies. \n",
    " - Regional and vehicle-specific trends identified in the analysis can be leveraged to `refine pricing` and `risk management`.\n",
    "\n",
    "**Recommendation:**\n",
    " - Integrate the outputs of the claim probability (`classification`) and claim severity (`regression`) models into a unified, risk-based premium calculation:\n",
    " \n",
    "     `Premium = (P(Claim) * E[ClaimAmount]) + ExpenseLoading + ProfitMargin`\n",
    " \n",
    " - Where P(Claim) is the predicted probability of a claim and E[ClaimAmount] is the expected claim amount from the severity model. \n",
    " - Regularly update the models with new data to maintain accuracy, and use SHAP or similar interpretability tools to ensure ongoing transparency and regulatory compliance. \n",
    " - Consider further segmenting pricing by region and vehicle type to capture additional risk variation and improve profitability.\n"
   ]
  }
 ],
 "metadata": {
  "kernelspec": {
   "display_name": "venv",
   "language": "python",
   "name": "python3"
  },
  "language_info": {
   "codemirror_mode": {
    "name": "ipython",
    "version": 3
   },
   "file_extension": ".py",
   "mimetype": "text/x-python",
   "name": "python",
   "nbconvert_exporter": "python",
   "pygments_lexer": "ipython3",
   "version": "3.13.3"
  }
 },
 "nbformat": 4,
 "nbformat_minor": 2
}
